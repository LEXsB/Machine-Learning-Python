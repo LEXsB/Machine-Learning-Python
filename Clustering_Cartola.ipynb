{
  "nbformat": 4,
  "nbformat_minor": 0,
  "metadata": {
    "colab": {
      "name": "Clustering_Cartola.ipynb",
      "version": "0.3.2",
      "provenance": [],
      "collapsed_sections": [],
      "toc_visible": true
    },
    "kernelspec": {
      "name": "python3",
      "display_name": "Python 3"
    }
  },
  "cells": [
    {
      "metadata": {
        "id": "bn24S-ordayg",
        "colab_type": "text"
      },
      "cell_type": "markdown",
      "source": [
        "# Estudo sobre agrupamento nos dados o Cartola FC. \n",
        "**Disciplina: Machine Learning.**\n",
        "\n",
        "\n",
        "**Integrantes**:\n",
        "\n",
        "\n",
        "*   Lourdes Milagros Mendoza Villavicencio\n",
        "*   Bruno Vicente Alves de Lima\n",
        "\n",
        "**Atividade**\n",
        "\n",
        "- considerar as características dos jogadores disponibilizadas pelo projeto caRtola. Caso o grupo ache necessário, poderá focar em apenas uma posição (goleiro, zagueiro, atacante, etc) .\n",
        "\n",
        "- documentar todo o notebook, incluindo o arquivo README.md (identificação do grupo e explicação do trabalho)\n",
        "\n",
        " "
      ]
    },
    {
      "metadata": {
        "id": "j_r4HzEmmsDf",
        "colab_type": "text"
      },
      "cell_type": "markdown",
      "source": [
        "**Descrição das Variaveis**\n",
        "\n",
        "\n",
        "| coluna          | descrição                                                 | observações                                                                                        |\n",
        "|-----------------|-----------------------------------------------------------|----------------------------------------------------------------------------------------------------|\n",
        "| Rodada          | número da rodada do Brasileirão                           |                                                                                                    |\n",
        "| ClubeID         | clube do jogador                                          | ver arquivo times_ids.csv                                                                          |\n",
        "| AtletaID        | id do jogador                                             |                                                                                                    |\n",
        "| Participou      | indica se o jogador participou daquela rodada             | FALSE:Não, TRUE:Sim                                                                                |\n",
        "| Posicao         | posição do jogador                                        | gol:goleiro, zag:zagueiro, lat:lateral, mei:meia, ata:atacante, tec:técnico                        |\n",
        "| Jogos           | qtde. de jogos que o jogador participou até aquela rodada |                                                                                                    |\n",
        "| Pontos          | pontuação do jogador                                      |                                                                                                    |\n",
        "| PontosMedia     | média da pontuação do jogador                             |                                                                                                    |\n",
        "| Preco           | preço do jogador                                          |                                                                                                    |\n",
        "| PrecoVariacao   | variação de preço                                         |                                                                                                    |\n",
        "| FS              | faltas sofridas                                           |                                                                                                    |\n",
        "| PE              | passes errados                                            |                                                                                                    |\n",
        "| A               | assistências                                              |                                                                                                    |\n",
        "| FT              | finalizações na trave                                     |                                                                                                    |\n",
        "| FD              | finalizações defendidas                                   |                                                                                                    |\n",
        "| FF              | finalizações para fora                                    |                                                                                                    |\n",
        "| G               | gols                                                      |                                                                                                    |\n",
        "| I               | impedimentos                                              |                                                                                                    |\n",
        "| PP              | pênaltis perdidos                                         |                                                                                                    |\n",
        "| RB              | roubadas de bola                                          |                                                                                                    |\n",
        "| FC              | faltas cometidas                                          |                                                                                                    |\n",
        "| GC              | gols contra                                               |                                                                                                    |\n",
        "| CA              | cartões amarelo                                           |                                                                                                    |\n",
        "| CV              | cartões vermelho                                          |                                                                                                    |\n",
        "| SG              | jogos sem sofrer gols                                     |                                                                                                    |\n",
        "| DD              | defesas difíceis                                          |                                                                                                    |\n",
        "| DP              | defesas de pênalti                                        |                                                                                                    |\n",
        "| GS              | gols sofridos                                             |                                                                                                    |\n",
        "| ano             | ano dos dados                                             |                                                                                                    |\n",
        "| Apelido         | nome/apelido do jogador                                   |                                                                                                    |\n",
        "| Status          | status do jogador                                         | Provável, Dúvida, Suspenso, Nulo, ...                                                              |\n",
        "| risk_points     | desvio-padrão da pontuação do jogador                     |                                                                                                    |\n",
        "| mes             | mês que a partida ocorreu                                 |                                                                                                    |\n",
        "| dia             | dia que a partida ocorreu                                 |                                                                                                    |\n",
        "| away.score.x    | placar to time visitante                                  |                                                                                                    |\n",
        "| home.score.x    | placar do time da casa                                    |                                                                                                    |\n",
        "| home.attack     | estimativa de força de ataque do time do jogador          | estimada a partir de uma regressão de Poisson com base no histórico de confrontos entre os times   |\n",
        "| home.defend     | estimativa de força de defesa do time do jogador          | estimada a partir de uma regressão de Poisson com base no histórico de confrontos entre os times   |\n",
        "| pred.home.score | estimativa de gols para o time da casa                    | estimada a partir de 10000 simulações  de confronto entre os times usando distribuições de Poisson |\n",
        "| pred.away.score | estimativa de gols para o time visitante                  | estimada a partir de 10000 simulações,de confronto entre os times usando distribuições de Poisson  |\n",
        "| variable        | indica se o jogador é do time da casa ou visitante        | home.team: casa, away.team: visitante                                                              |\n",
        "\n",
        "\n"
      ]
    },
    {
      "metadata": {
        "id": "hGCfkpT17Jgh",
        "colab_type": "text"
      },
      "cell_type": "markdown",
      "source": [
        "# New Section"
      ]
    },
    {
      "metadata": {
        "id": "pe7eW0SjbZg_",
        "colab_type": "code",
        "outputId": "4ebd8581-6dd1-47bc-a688-ac1f97b07be5",
        "colab": {
          "base_uri": "https://localhost:8080/",
          "height": 408
        }
      },
      "cell_type": "code",
      "source": [
        "import pandas as pd\n",
        "\n",
        "dados = pd.read_csv('dados_agregados_limpos.csv')\n",
        "dados.head(10)\n"
      ],
      "execution_count": 7,
      "outputs": [
        {
          "output_type": "execute_result",
          "data": {
            "text/html": [
              "<div>\n",
              "<style scoped>\n",
              "    .dataframe tbody tr th:only-of-type {\n",
              "        vertical-align: middle;\n",
              "    }\n",
              "\n",
              "    .dataframe tbody tr th {\n",
              "        vertical-align: top;\n",
              "    }\n",
              "\n",
              "    .dataframe thead th {\n",
              "        text-align: right;\n",
              "    }\n",
              "</style>\n",
              "<table border=\"1\" class=\"dataframe\">\n",
              "  <thead>\n",
              "    <tr style=\"text-align: right;\">\n",
              "      <th></th>\n",
              "      <th>A</th>\n",
              "      <th>Apelido</th>\n",
              "      <th>AtletaID</th>\n",
              "      <th>CA</th>\n",
              "      <th>CV</th>\n",
              "      <th>ClubeID</th>\n",
              "      <th>DD</th>\n",
              "      <th>DP</th>\n",
              "      <th>FC</th>\n",
              "      <th>FD</th>\n",
              "      <th>...</th>\n",
              "      <th>away.score.x</th>\n",
              "      <th>dia</th>\n",
              "      <th>home.attack</th>\n",
              "      <th>home.defend</th>\n",
              "      <th>home.score.x</th>\n",
              "      <th>mes</th>\n",
              "      <th>pred.away.score</th>\n",
              "      <th>pred.home.score</th>\n",
              "      <th>risk_points</th>\n",
              "      <th>variable</th>\n",
              "    </tr>\n",
              "  </thead>\n",
              "  <tbody>\n",
              "    <tr>\n",
              "      <th>0</th>\n",
              "      <td>0.0</td>\n",
              "      <td>Juan</td>\n",
              "      <td>36540</td>\n",
              "      <td>1.0</td>\n",
              "      <td>0.0</td>\n",
              "      <td>Internacional</td>\n",
              "      <td>0.0</td>\n",
              "      <td>0.0</td>\n",
              "      <td>2.0</td>\n",
              "      <td>0.0</td>\n",
              "      <td>...</td>\n",
              "      <td>0.0</td>\n",
              "      <td>19.0</td>\n",
              "      <td>0.0</td>\n",
              "      <td>0.0</td>\n",
              "      <td>1.0</td>\n",
              "      <td>4.0</td>\n",
              "      <td>0.0</td>\n",
              "      <td>0.0</td>\n",
              "      <td>1.000000</td>\n",
              "      <td>home.team</td>\n",
              "    </tr>\n",
              "    <tr>\n",
              "      <th>1</th>\n",
              "      <td>0.0</td>\n",
              "      <td>Juan</td>\n",
              "      <td>36540</td>\n",
              "      <td>0.0</td>\n",
              "      <td>0.0</td>\n",
              "      <td>Internacional</td>\n",
              "      <td>0.0</td>\n",
              "      <td>0.0</td>\n",
              "      <td>2.0</td>\n",
              "      <td>1.0</td>\n",
              "      <td>...</td>\n",
              "      <td>2.0</td>\n",
              "      <td>27.0</td>\n",
              "      <td>0.0</td>\n",
              "      <td>0.0</td>\n",
              "      <td>2.0</td>\n",
              "      <td>4.0</td>\n",
              "      <td>0.0</td>\n",
              "      <td>0.0</td>\n",
              "      <td>1.000000</td>\n",
              "      <td>away.team</td>\n",
              "    </tr>\n",
              "    <tr>\n",
              "      <th>2</th>\n",
              "      <td>0.0</td>\n",
              "      <td>Juan</td>\n",
              "      <td>36540</td>\n",
              "      <td>1.0</td>\n",
              "      <td>0.0</td>\n",
              "      <td>Internacional</td>\n",
              "      <td>0.0</td>\n",
              "      <td>0.0</td>\n",
              "      <td>2.0</td>\n",
              "      <td>0.0</td>\n",
              "      <td>...</td>\n",
              "      <td>1.0</td>\n",
              "      <td>4.0</td>\n",
              "      <td>0.0</td>\n",
              "      <td>0.0</td>\n",
              "      <td>2.0</td>\n",
              "      <td>5.0</td>\n",
              "      <td>0.0</td>\n",
              "      <td>0.0</td>\n",
              "      <td>1.000000</td>\n",
              "      <td>home.team</td>\n",
              "    </tr>\n",
              "    <tr>\n",
              "      <th>3</th>\n",
              "      <td>0.0</td>\n",
              "      <td>Juan</td>\n",
              "      <td>36540</td>\n",
              "      <td>0.0</td>\n",
              "      <td>0.0</td>\n",
              "      <td>Internacional</td>\n",
              "      <td>0.0</td>\n",
              "      <td>0.0</td>\n",
              "      <td>0.0</td>\n",
              "      <td>1.0</td>\n",
              "      <td>...</td>\n",
              "      <td>1.0</td>\n",
              "      <td>10.0</td>\n",
              "      <td>0.0</td>\n",
              "      <td>0.0</td>\n",
              "      <td>2.0</td>\n",
              "      <td>5.0</td>\n",
              "      <td>0.0</td>\n",
              "      <td>0.0</td>\n",
              "      <td>1.000000</td>\n",
              "      <td>home.team</td>\n",
              "    </tr>\n",
              "    <tr>\n",
              "      <th>4</th>\n",
              "      <td>0.0</td>\n",
              "      <td>Juan</td>\n",
              "      <td>36540</td>\n",
              "      <td>1.0</td>\n",
              "      <td>0.0</td>\n",
              "      <td>Internacional</td>\n",
              "      <td>0.0</td>\n",
              "      <td>0.0</td>\n",
              "      <td>5.0</td>\n",
              "      <td>0.0</td>\n",
              "      <td>...</td>\n",
              "      <td>0.0</td>\n",
              "      <td>18.0</td>\n",
              "      <td>0.0</td>\n",
              "      <td>0.0</td>\n",
              "      <td>0.0</td>\n",
              "      <td>5.0</td>\n",
              "      <td>0.0</td>\n",
              "      <td>0.0</td>\n",
              "      <td>1.000000</td>\n",
              "      <td>away.team</td>\n",
              "    </tr>\n",
              "    <tr>\n",
              "      <th>5</th>\n",
              "      <td>0.0</td>\n",
              "      <td>Juan</td>\n",
              "      <td>36540</td>\n",
              "      <td>0.0</td>\n",
              "      <td>0.0</td>\n",
              "      <td>Internacional</td>\n",
              "      <td>0.0</td>\n",
              "      <td>0.0</td>\n",
              "      <td>0.0</td>\n",
              "      <td>0.0</td>\n",
              "      <td>...</td>\n",
              "      <td>3.0</td>\n",
              "      <td>25.0</td>\n",
              "      <td>0.0</td>\n",
              "      <td>0.0</td>\n",
              "      <td>1.0</td>\n",
              "      <td>5.0</td>\n",
              "      <td>0.0</td>\n",
              "      <td>0.0</td>\n",
              "      <td>1.000000</td>\n",
              "      <td>home.team</td>\n",
              "    </tr>\n",
              "    <tr>\n",
              "      <th>6</th>\n",
              "      <td>0.0</td>\n",
              "      <td>Juan</td>\n",
              "      <td>36540</td>\n",
              "      <td>0.0</td>\n",
              "      <td>0.0</td>\n",
              "      <td>Internacional</td>\n",
              "      <td>0.0</td>\n",
              "      <td>0.0</td>\n",
              "      <td>1.0</td>\n",
              "      <td>0.0</td>\n",
              "      <td>...</td>\n",
              "      <td>0.0</td>\n",
              "      <td>28.0</td>\n",
              "      <td>0.0</td>\n",
              "      <td>0.0</td>\n",
              "      <td>2.0</td>\n",
              "      <td>5.0</td>\n",
              "      <td>0.0</td>\n",
              "      <td>0.0</td>\n",
              "      <td>1.000000</td>\n",
              "      <td>home.team</td>\n",
              "    </tr>\n",
              "    <tr>\n",
              "      <th>7</th>\n",
              "      <td>0.0</td>\n",
              "      <td>Juan</td>\n",
              "      <td>36540</td>\n",
              "      <td>0.0</td>\n",
              "      <td>0.0</td>\n",
              "      <td>Internacional</td>\n",
              "      <td>0.0</td>\n",
              "      <td>0.0</td>\n",
              "      <td>1.0</td>\n",
              "      <td>1.0</td>\n",
              "      <td>...</td>\n",
              "      <td>1.0</td>\n",
              "      <td>1.0</td>\n",
              "      <td>0.0</td>\n",
              "      <td>0.0</td>\n",
              "      <td>1.0</td>\n",
              "      <td>6.0</td>\n",
              "      <td>0.0</td>\n",
              "      <td>0.0</td>\n",
              "      <td>3.226298</td>\n",
              "      <td>away.team</td>\n",
              "    </tr>\n",
              "    <tr>\n",
              "      <th>8</th>\n",
              "      <td>0.0</td>\n",
              "      <td>Juan</td>\n",
              "      <td>36540</td>\n",
              "      <td>0.0</td>\n",
              "      <td>0.0</td>\n",
              "      <td>Internacional</td>\n",
              "      <td>0.0</td>\n",
              "      <td>0.0</td>\n",
              "      <td>0.0</td>\n",
              "      <td>0.0</td>\n",
              "      <td>...</td>\n",
              "      <td>1.0</td>\n",
              "      <td>17.0</td>\n",
              "      <td>0.0</td>\n",
              "      <td>0.0</td>\n",
              "      <td>2.0</td>\n",
              "      <td>7.0</td>\n",
              "      <td>0.0</td>\n",
              "      <td>0.0</td>\n",
              "      <td>3.195153</td>\n",
              "      <td>away.team</td>\n",
              "    </tr>\n",
              "    <tr>\n",
              "      <th>9</th>\n",
              "      <td>1.0</td>\n",
              "      <td>Juan</td>\n",
              "      <td>36540</td>\n",
              "      <td>0.0</td>\n",
              "      <td>0.0</td>\n",
              "      <td>Internacional</td>\n",
              "      <td>0.0</td>\n",
              "      <td>0.0</td>\n",
              "      <td>0.0</td>\n",
              "      <td>0.0</td>\n",
              "      <td>...</td>\n",
              "      <td>0.0</td>\n",
              "      <td>20.0</td>\n",
              "      <td>0.0</td>\n",
              "      <td>0.0</td>\n",
              "      <td>4.0</td>\n",
              "      <td>7.0</td>\n",
              "      <td>0.0</td>\n",
              "      <td>0.0</td>\n",
              "      <td>3.971580</td>\n",
              "      <td>home.team</td>\n",
              "    </tr>\n",
              "  </tbody>\n",
              "</table>\n",
              "<p>10 rows × 77 columns</p>\n",
              "</div>"
            ],
            "text/plain": [
              "     A Apelido  AtletaID   CA   CV        ClubeID   DD   DP   FC   FD  \\\n",
              "0  0.0    Juan     36540  1.0  0.0  Internacional  0.0  0.0  2.0  0.0   \n",
              "1  0.0    Juan     36540  0.0  0.0  Internacional  0.0  0.0  2.0  1.0   \n",
              "2  0.0    Juan     36540  1.0  0.0  Internacional  0.0  0.0  2.0  0.0   \n",
              "3  0.0    Juan     36540  0.0  0.0  Internacional  0.0  0.0  0.0  1.0   \n",
              "4  0.0    Juan     36540  1.0  0.0  Internacional  0.0  0.0  5.0  0.0   \n",
              "5  0.0    Juan     36540  0.0  0.0  Internacional  0.0  0.0  0.0  0.0   \n",
              "6  0.0    Juan     36540  0.0  0.0  Internacional  0.0  0.0  1.0  0.0   \n",
              "7  0.0    Juan     36540  0.0  0.0  Internacional  0.0  0.0  1.0  1.0   \n",
              "8  0.0    Juan     36540  0.0  0.0  Internacional  0.0  0.0  0.0  0.0   \n",
              "9  1.0    Juan     36540  0.0  0.0  Internacional  0.0  0.0  0.0  0.0   \n",
              "\n",
              "     ...      away.score.x   dia  home.attack  home.defend  home.score.x  mes  \\\n",
              "0    ...               0.0  19.0          0.0          0.0           1.0  4.0   \n",
              "1    ...               2.0  27.0          0.0          0.0           2.0  4.0   \n",
              "2    ...               1.0   4.0          0.0          0.0           2.0  5.0   \n",
              "3    ...               1.0  10.0          0.0          0.0           2.0  5.0   \n",
              "4    ...               0.0  18.0          0.0          0.0           0.0  5.0   \n",
              "5    ...               3.0  25.0          0.0          0.0           1.0  5.0   \n",
              "6    ...               0.0  28.0          0.0          0.0           2.0  5.0   \n",
              "7    ...               1.0   1.0          0.0          0.0           1.0  6.0   \n",
              "8    ...               1.0  17.0          0.0          0.0           2.0  7.0   \n",
              "9    ...               0.0  20.0          0.0          0.0           4.0  7.0   \n",
              "\n",
              "   pred.away.score  pred.home.score  risk_points   variable  \n",
              "0              0.0              0.0     1.000000  home.team  \n",
              "1              0.0              0.0     1.000000  away.team  \n",
              "2              0.0              0.0     1.000000  home.team  \n",
              "3              0.0              0.0     1.000000  home.team  \n",
              "4              0.0              0.0     1.000000  away.team  \n",
              "5              0.0              0.0     1.000000  home.team  \n",
              "6              0.0              0.0     1.000000  home.team  \n",
              "7              0.0              0.0     3.226298  away.team  \n",
              "8              0.0              0.0     3.195153  away.team  \n",
              "9              0.0              0.0     3.971580  home.team  \n",
              "\n",
              "[10 rows x 77 columns]"
            ]
          },
          "metadata": {
            "tags": []
          },
          "execution_count": 7
        }
      ]
    },
    {
      "metadata": {
        "id": "M2xCfvqD8l2P",
        "colab_type": "text"
      },
      "cell_type": "markdown",
      "source": [
        ""
      ]
    },
    {
      "metadata": {
        "id": "SzEURPpmc4fp",
        "colab_type": "text"
      },
      "cell_type": "markdown",
      "source": [
        ""
      ]
    },
    {
      "metadata": {
        "id": "N-gUkwI_pXj-",
        "colab_type": "code",
        "outputId": "f2f9ae62-e0bc-414d-b88c-e1f0e1915e13",
        "colab": {
          "base_uri": "https://localhost:8080/",
          "height": 34
        }
      },
      "cell_type": "code",
      "source": [
        "#\"Dimensões originais dos dados: \"\n",
        "print(dados.shape)"
      ],
      "execution_count": 61,
      "outputs": [
        {
          "output_type": "stream",
          "text": [
            "(17567, 77)\n"
          ],
          "name": "stdout"
        }
      ]
    },
    {
      "metadata": {
        "id": "XV-i2uLCpsuW",
        "colab_type": "code",
        "outputId": "8769ae7c-69c8-419f-a4e9-ad256dbc9035",
        "colab": {
          "base_uri": "https://localhost:8080/",
          "height": 255
        }
      },
      "cell_type": "code",
      "source": [
        "dados.columns"
      ],
      "execution_count": 62,
      "outputs": [
        {
          "output_type": "execute_result",
          "data": {
            "text/plain": [
              "Index(['A', 'Apelido', 'AtletaID', 'CA', 'CV', 'ClubeID', 'DD', 'DP', 'FC',\n",
              "       'FD', 'FF', 'FS', 'FT', 'G', 'GC', 'GS', 'I', 'Jogos', 'PE', 'PP',\n",
              "       'Participou', 'Pontos', 'PontosMedia', 'Posicao', 'Preco',\n",
              "       'PrecoVariacao', 'RB', 'Rodada', 'SG', 'Status', 'ano', 'avg.A',\n",
              "       'avg.A.l05', 'avg.CA', 'avg.CV.l05', 'avg.DD', 'avg.DD.l05', 'avg.DP',\n",
              "       'avg.DP.l05', 'avg.FC', 'avg.FC.l05', 'avg.FD', 'avg.FD.l05', 'avg.FF',\n",
              "       'avg.FF.l05', 'avg.FS', 'avg.FS.l05', 'avg.FT', 'avg.FT.l05', 'avg.G',\n",
              "       'avg.G.l05', 'avg.GC', 'avg.GC.l05', 'avg.GS', 'avg.GS.l05', 'avg.I',\n",
              "       'avg.I.l05', 'avg.PE', 'avg.PE.l05', 'avg.PP', 'avg.PP.l05',\n",
              "       'avg.Points', 'avg.RB', 'avg.RB.l05', 'avg.SG', 'avg.SG.l05',\n",
              "       'avg.last05', 'away.score.x', 'dia', 'home.attack', 'home.defend',\n",
              "       'home.score.x', 'mes', 'pred.away.score', 'pred.home.score',\n",
              "       'risk_points', 'variable'],\n",
              "      dtype='object')"
            ]
          },
          "metadata": {
            "tags": []
          },
          "execution_count": 62
        }
      ]
    },
    {
      "metadata": {
        "id": "FA4rZf2Y7JR_",
        "colab_type": "code",
        "colab": {}
      },
      "cell_type": "code",
      "source": [
        "\n",
        "print(dados['Posicao'].value_counts())\n",
        "\n"
      ],
      "execution_count": 0,
      "outputs": []
    },
    {
      "metadata": {
        "id": "uIP5J8DmJAD_",
        "colab_type": "code",
        "outputId": "6c1c0c0c-be2f-4ab2-9e68-eb25b474bb87",
        "colab": {
          "base_uri": "https://localhost:8080/",
          "height": 204
        }
      },
      "cell_type": "code",
      "source": [
        "import pandas as pd\n",
        "import numpy as np\n",
        "data= dados [['Posicao', 'PontosMedia','Preco']]\n",
        "data.head()\n"
      ],
      "execution_count": 69,
      "outputs": [
        {
          "output_type": "execute_result",
          "data": {
            "text/html": [
              "<div>\n",
              "<style scoped>\n",
              "    .dataframe tbody tr th:only-of-type {\n",
              "        vertical-align: middle;\n",
              "    }\n",
              "\n",
              "    .dataframe tbody tr th {\n",
              "        vertical-align: top;\n",
              "    }\n",
              "\n",
              "    .dataframe thead th {\n",
              "        text-align: right;\n",
              "    }\n",
              "</style>\n",
              "<table border=\"1\" class=\"dataframe\">\n",
              "  <thead>\n",
              "    <tr style=\"text-align: right;\">\n",
              "      <th></th>\n",
              "      <th>Posicao</th>\n",
              "      <th>PontosMedia</th>\n",
              "      <th>Preco</th>\n",
              "    </tr>\n",
              "  </thead>\n",
              "  <tbody>\n",
              "    <tr>\n",
              "      <th>0</th>\n",
              "      <td>zag</td>\n",
              "      <td>2.00</td>\n",
              "      <td>12.88</td>\n",
              "    </tr>\n",
              "    <tr>\n",
              "      <th>1</th>\n",
              "      <td>zag</td>\n",
              "      <td>2.70</td>\n",
              "      <td>12.04</td>\n",
              "    </tr>\n",
              "    <tr>\n",
              "      <th>2</th>\n",
              "      <td>zag</td>\n",
              "      <td>1.83</td>\n",
              "      <td>10.85</td>\n",
              "    </tr>\n",
              "    <tr>\n",
              "      <th>3</th>\n",
              "      <td>zag</td>\n",
              "      <td>1.60</td>\n",
              "      <td>10.61</td>\n",
              "    </tr>\n",
              "    <tr>\n",
              "      <th>4</th>\n",
              "      <td>zag</td>\n",
              "      <td>1.52</td>\n",
              "      <td>10.45</td>\n",
              "    </tr>\n",
              "  </tbody>\n",
              "</table>\n",
              "</div>"
            ],
            "text/plain": [
              "  Posicao  PontosMedia  Preco\n",
              "0     zag         2.00  12.88\n",
              "1     zag         2.70  12.04\n",
              "2     zag         1.83  10.85\n",
              "3     zag         1.60  10.61\n",
              "4     zag         1.52  10.45"
            ]
          },
          "metadata": {
            "tags": []
          },
          "execution_count": 69
        }
      ]
    },
    {
      "metadata": {
        "id": "NEd1q4qz_Po9",
        "colab_type": "code",
        "colab": {
          "base_uri": "https://localhost:8080/",
          "height": 204
        },
        "outputId": "69d1a1d0-2cda-404a-9c6c-cf4809b2b35a"
      },
      "cell_type": "code",
      "source": [
        "data=data.loc[data['Posicao']== 'zag']\n",
        "data.head( )"
      ],
      "execution_count": 70,
      "outputs": [
        {
          "output_type": "execute_result",
          "data": {
            "text/html": [
              "<div>\n",
              "<style scoped>\n",
              "    .dataframe tbody tr th:only-of-type {\n",
              "        vertical-align: middle;\n",
              "    }\n",
              "\n",
              "    .dataframe tbody tr th {\n",
              "        vertical-align: top;\n",
              "    }\n",
              "\n",
              "    .dataframe thead th {\n",
              "        text-align: right;\n",
              "    }\n",
              "</style>\n",
              "<table border=\"1\" class=\"dataframe\">\n",
              "  <thead>\n",
              "    <tr style=\"text-align: right;\">\n",
              "      <th></th>\n",
              "      <th>Posicao</th>\n",
              "      <th>PontosMedia</th>\n",
              "      <th>Preco</th>\n",
              "    </tr>\n",
              "  </thead>\n",
              "  <tbody>\n",
              "    <tr>\n",
              "      <th>0</th>\n",
              "      <td>zag</td>\n",
              "      <td>2.00</td>\n",
              "      <td>12.88</td>\n",
              "    </tr>\n",
              "    <tr>\n",
              "      <th>1</th>\n",
              "      <td>zag</td>\n",
              "      <td>2.70</td>\n",
              "      <td>12.04</td>\n",
              "    </tr>\n",
              "    <tr>\n",
              "      <th>2</th>\n",
              "      <td>zag</td>\n",
              "      <td>1.83</td>\n",
              "      <td>10.85</td>\n",
              "    </tr>\n",
              "    <tr>\n",
              "      <th>3</th>\n",
              "      <td>zag</td>\n",
              "      <td>1.60</td>\n",
              "      <td>10.61</td>\n",
              "    </tr>\n",
              "    <tr>\n",
              "      <th>4</th>\n",
              "      <td>zag</td>\n",
              "      <td>1.52</td>\n",
              "      <td>10.45</td>\n",
              "    </tr>\n",
              "  </tbody>\n",
              "</table>\n",
              "</div>"
            ],
            "text/plain": [
              "  Posicao  PontosMedia  Preco\n",
              "0     zag         2.00  12.88\n",
              "1     zag         2.70  12.04\n",
              "2     zag         1.83  10.85\n",
              "3     zag         1.60  10.61\n",
              "4     zag         1.52  10.45"
            ]
          },
          "metadata": {
            "tags": []
          },
          "execution_count": 70
        }
      ]
    },
    {
      "metadata": {
        "id": "4fTE7HaSZ04_",
        "colab_type": "code",
        "colab": {}
      },
      "cell_type": "code",
      "source": [
        "import numpy as np\n",
        "import matplotlib.pyplot as plt\n",
        "from sklearn.cluster import KMeans"
      ],
      "execution_count": 0,
      "outputs": []
    },
    {
      "metadata": {
        "id": "i5tzT1lUA9I5",
        "colab_type": "code",
        "colab": {}
      },
      "cell_type": "code",
      "source": [
        "X=data.iloc[:,1:3]\n",
        "X"
      ],
      "execution_count": 0,
      "outputs": []
    },
    {
      "metadata": {
        "id": "lrsDziPlICX0",
        "colab_type": "code",
        "colab": {
          "base_uri": "https://localhost:8080/",
          "height": 497
        },
        "outputId": "471f1dbd-fdfa-4ebb-850e-86f67b945c97"
      },
      "cell_type": "code",
      "source": [
        "import matplotlib.pyplot as plt\n",
        "%matplotlib inline\n",
        "plt.figure(figsize=(8, 8))\n",
        "plt.scatter(data['Preco'], data['PontosMedia'], c='y')\n",
        "plt.xlabel('Preço do jogador', fontsize=10)\n",
        "plt.ylabel('PontosMedia', fontsize=10)\n",
        "plt.show()"
      ],
      "execution_count": 84,
      "outputs": [
        {
          "output_type": "display_data",
          "data": {
            "image/png": "[encoded data removed]",
            "text/plain": [
              "<matplotlib.figure.Figure at 0x7f4238e64e10>"
            ]
          },
          "metadata": {
            "tags": []
          }
        }
      ]
    },
    {
      "metadata": {
        "id": "H5S1CMOQy8cU",
        "colab_type": "code",
        "colab": {
          "base_uri": "https://localhost:8080/",
          "height": 68
        },
        "outputId": "c4860b61-8831-4c42-e7ef-5b2a28c02808"
      },
      "cell_type": "code",
      "source": [
        "from sklearn.cluster import KMeans\n",
        "Kmeans= KMeans(n_clusters =4)\n",
        "Kmeans.fit(X)"
      ],
      "execution_count": 74,
      "outputs": [
        {
          "output_type": "execute_result",
          "data": {
            "text/plain": [
              "KMeans(algorithm='auto', copy_x=True, init='k-means++', max_iter=300,\n",
              "    n_clusters=4, n_init=10, n_jobs=1, precompute_distances='auto',\n",
              "    random_state=None, tol=0.0001, verbose=0)"
            ]
          },
          "metadata": {
            "tags": []
          },
          "execution_count": 74
        }
      ]
    },
    {
      "metadata": {
        "id": "aTXIH5buzhsK",
        "colab_type": "code",
        "colab": {
          "base_uri": "https://localhost:8080/",
          "height": 85
        },
        "outputId": "0001651f-23db-4a86-94d4-7b7ca4eeec8f"
      },
      "cell_type": "code",
      "source": [
        "centroides= Kmeans.cluster_centers_\n",
        "centroides"
      ],
      "execution_count": 75,
      "outputs": [
        {
          "output_type": "execute_result",
          "data": {
            "text/plain": [
              "array([[ 3.28188259,  7.04259109],\n",
              "       [ 1.36563528,  3.12503737],\n",
              "       [ 5.27591928, 16.54529148],\n",
              "       [ 3.73073529, 10.67910428]])"
            ]
          },
          "metadata": {
            "tags": []
          },
          "execution_count": 75
        }
      ]
    },
    {
      "metadata": {
        "id": "9hDOXYkn3Xc-",
        "colab_type": "code",
        "colab": {
          "base_uri": "https://localhost:8080/",
          "height": 136
        },
        "outputId": "8ff2adcd-e3a1-4163-aa7f-3a9187cccc28"
      },
      "cell_type": "code",
      "source": [
        "distance = Kmeans.fit_transform(X)\n",
        "distance"
      ],
      "execution_count": 76,
      "outputs": [
        {
          "output_type": "execute_result",
          "data": {
            "text/plain": [
              "array([[ 5.97650113,  9.77556722,  4.91589349,  2.79989047],\n",
              "       [ 5.03117115,  9.01427135,  5.18970245,  1.70717674],\n",
              "       [ 4.07484057,  7.73890704,  6.65662863,  1.90840247],\n",
              "       ...,\n",
              "       [ 4.14298927,  4.08162438, 13.04620139,  7.37746832],\n",
              "       [ 4.93506996,  4.35921768, 12.32212854,  6.8861113 ],\n",
              "       [ 2.44235023,  2.60012053, 12.06669267,  6.07348874]])"
            ]
          },
          "metadata": {
            "tags": []
          },
          "execution_count": 76
        }
      ]
    },
    {
      "metadata": {
        "id": "N2SnaesL4UkW",
        "colab_type": "code",
        "colab": {
          "base_uri": "https://localhost:8080/",
          "height": 34
        },
        "outputId": "d2b92c26-d8e0-40d7-b7b8-e542eea981d8"
      },
      "cell_type": "code",
      "source": [
        "labels = Kmeans.labels_\n",
        "labels"
      ],
      "execution_count": 77,
      "outputs": [
        {
          "output_type": "execute_result",
          "data": {
            "text/plain": [
              "array([3, 3, 3, ..., 1, 1, 0], dtype=int32)"
            ]
          },
          "metadata": {
            "tags": []
          },
          "execution_count": 77
        }
      ]
    },
    {
      "metadata": {
        "id": "pUTmRC8WCJNc",
        "colab_type": "code",
        "colab": {
          "base_uri": "https://localhost:8080/",
          "height": 464
        },
        "outputId": "779ea8fb-f359-4d76-a40c-78cc854befe2"
      },
      "cell_type": "code",
      "source": [
        "from sklearn.cluster import KMeans\n",
        "wcss = [ ]\n",
        " \n",
        "for i in range(1, 11):\n",
        "    Kmeans = KMeans(n_clusters = i, init = 'random')\n",
        "    Kmeans.fit(X)\n",
        "    print (i, Kmeans.inertia_ )\n",
        "    wcss. append(Kmeans.inertia_ )  \n",
        "plt.plot(range(1, 11), wcss)\n",
        "plt.title('O Metodo Elbow')\n",
        "plt.xlabel('Numero de Clusters')\n",
        "plt.ylabel('WSS') #within cluster sum of squares\n",
        "plt.show()"
      ],
      "execution_count": 78,
      "outputs": [
        {
          "output_type": "stream",
          "text": [
            "1 52472.0402313166\n",
            "2 24213.436705990098\n",
            "3 14442.152347682973\n",
            "4 10650.107031052648\n",
            "5 8757.341249939765\n",
            "6 7571.334946058209\n",
            "7 6700.307689284942\n",
            "8 6024.959193898434\n",
            "9 5403.770048194792\n",
            "10 4925.042253664837\n"
          ],
          "name": "stdout"
        },
        {
          "output_type": "display_data",
          "data": {
            "image/png": "[encoded data removed]",
            "text/plain": [
              "<matplotlib.figure.Figure at 0x7f423bccc7f0>"
            ]
          },
          "metadata": {
            "tags": []
          }
        }
      ]
    },
    {
      "metadata": {
        "id": "_A5CteP4AeY3",
        "colab_type": "code",
        "colab": {
          "base_uri": "https://localhost:8080/",
          "height": 68
        },
        "outputId": "e8694102-ff2c-4b27-828f-da442d410fbd"
      },
      "cell_type": "code",
      "source": [
        "from sklearn.cluster import KMeans\n",
        "Kmeans= KMeans(n_clusters =3)\n",
        "Kmeans.fit(X)"
      ],
      "execution_count": 79,
      "outputs": [
        {
          "output_type": "execute_result",
          "data": {
            "text/plain": [
              "KMeans(algorithm='auto', copy_x=True, init='k-means++', max_iter=300,\n",
              "    n_clusters=3, n_init=10, n_jobs=1, precompute_distances='auto',\n",
              "    random_state=None, tol=0.0001, verbose=0)"
            ]
          },
          "metadata": {
            "tags": []
          },
          "execution_count": 79
        }
      ]
    },
    {
      "metadata": {
        "id": "x-jyeZDwAjqn",
        "colab_type": "code",
        "colab": {
          "base_uri": "https://localhost:8080/",
          "height": 68
        },
        "outputId": "0551a7a4-9bda-4dba-b816-bbcd6b992c49"
      },
      "cell_type": "code",
      "source": [
        "centroides2= Kmeans.cluster_centers_\n",
        "centroides2"
      ],
      "execution_count": 80,
      "outputs": [
        {
          "output_type": "execute_result",
          "data": {
            "text/plain": [
              "array([[ 3.52584253,  8.99145695],\n",
              "       [ 1.87244792,  3.86260417],\n",
              "       [ 4.96459547, 15.53012945]])"
            ]
          },
          "metadata": {
            "tags": []
          },
          "execution_count": 80
        }
      ]
    },
    {
      "metadata": {
        "id": "4Z6JDgX_AoYv",
        "colab_type": "code",
        "colab": {
          "base_uri": "https://localhost:8080/",
          "height": 136
        },
        "outputId": "fd426478-17d1-4a7c-e249-a66be3d4739d"
      },
      "cell_type": "code",
      "source": [
        "distance2 = Kmeans.fit_transform(X)\n",
        "distance2"
      ],
      "execution_count": 81,
      "outputs": [
        {
          "output_type": "execute_result",
          "data": {
            "text/plain": [
              "array([[ 4.26218628,  9.0512715 ,  3.73407996],\n",
              "       [ 3.24961223,  8.25344662,  3.86876151],\n",
              "       [ 2.57435523,  7.02016205,  5.3426431 ],\n",
              "       ...,\n",
              "       [ 5.72556486,  3.58980399, 11.72085633],\n",
              "       [ 5.71042662,  4.25915096, 11.02331353],\n",
              "       [ 4.28022394,  1.82025776, 10.69413317]])"
            ]
          },
          "metadata": {
            "tags": []
          },
          "execution_count": 81
        }
      ]
    },
    {
      "metadata": {
        "id": "HK3ku3IHAsZH",
        "colab_type": "code",
        "colab": {
          "base_uri": "https://localhost:8080/",
          "height": 34
        },
        "outputId": "402feedc-cd71-4fba-d939-bb6ac6f484e4"
      },
      "cell_type": "code",
      "source": [
        "labels2 = Kmeans.labels_\n",
        "labels2"
      ],
      "execution_count": 82,
      "outputs": [
        {
          "output_type": "execute_result",
          "data": {
            "text/plain": [
              "array([2, 0, 0, ..., 1, 1, 1], dtype=int32)"
            ]
          },
          "metadata": {
            "tags": []
          },
          "execution_count": 82
        }
      ]
    },
    {
      "metadata": {
        "id": "BEcW2rYNIynm",
        "colab_type": "code",
        "colab": {
          "base_uri": "https://localhost:8080/",
          "height": 282
        },
        "outputId": "b243e37c-31f0-4673-cc7a-8e4ed0732004"
      },
      "cell_type": "code",
      "source": [
        "plt.scatter( X['PontosMedia'], X['Preco'], c=Kmeans.labels_ , cmap = 'rainbow') \n",
        "\n"
      ],
      "execution_count": 83,
      "outputs": [
        {
          "output_type": "execute_result",
          "data": {
            "text/plain": [
              "<matplotlib.collections.PathCollection at 0x7f4238e90c50>"
            ]
          },
          "metadata": {
            "tags": []
          },
          "execution_count": 83
        },
        {
          "output_type": "display_data",
          "data": {
            "image/png": "[encoded data removed]",
            "text/plain": [
              "<matplotlib.figure.Figure at 0x7f4238f4db38>"
            ]
          },
          "metadata": {
            "tags": []
          }
        }
      ]
    }
  ]
}